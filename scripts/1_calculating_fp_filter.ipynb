{
 "cells": [
  {
   "cell_type": "code",
   "execution_count": 4,
   "metadata": {},
   "outputs": [],
   "source": [
    "from rdkit.Chem import DataStructs,AllChem\n",
    "from rdkit import Chem\n",
    "import pandas as pd\n",
    "from pathlib import Path"
   ]
  },
  {
   "cell_type": "code",
   "execution_count": 5,
   "metadata": {},
   "outputs": [],
   "source": [
    "def ecfp4(smi):\n",
    "    \"\"\"\n",
    "    计算1024位的ecfp4\n",
    "    \"\"\"\n",
    "    mol = Chem.MolFromSmiles(smi)\n",
    "    info = {} #注意：序号从0开始的\n",
    "    desc = AllChem.GetMorganFingerprintAsBitVect(\n",
    "        mol,2,nBits=1024,useChirality=True,bitInfo=info)\n",
    "    return desc\n",
    "\n",
    "def maccs(smi):\n",
    "    \"\"\"\n",
    "    计算167位的maccs\n",
    "    \"\"\"\n",
    "    mol = Chem.MolFromSmiles(smi)\n",
    "    desc = AllChem.GetMACCSKeysFingerprint(mol)\n",
    "    return desc\n",
    "\n",
    "def maccs_df(df):\n",
    "    fp = pd.DataFrame(index=range(len(df)), columns=range(167))\n",
    "    for i in range(len(df)):\n",
    "        fp.loc[i,:] = pd.Series(list(maccs(df.loc[i,'SMILES'])))\n",
    "    df = pd.concat([df, fp.iloc[:,1:]], axis=1)\n",
    "    return df\n",
    "\n",
    "def ecfp4_df(df):\n",
    "    fp = pd.DataFrame(index=range(len(df)), columns=range(1024))\n",
    "    for i in range(len(df)):\n",
    "        fp.loc[i,:] = pd.Series(list(ecfp4(df.loc[i,'SMILES'])))\n",
    "    df = pd.concat([df, fp], axis=1)\n",
    "    return df  \n",
    "\n",
    "def fingerprint_filter(filter_txt, df):\n",
    "    filter_ls = pd.read_csv(filter_txt, header=None).iloc[:,0].tolist()\n",
    "    df_filter = df[filter_ls]\n",
    "    return df_filter\n"
   ]
  },
  {
   "cell_type": "code",
   "execution_count": 6,
   "metadata": {},
   "outputs": [],
   "source": [
    "## Calculate and filter fingerprints for the new data\n",
    "inpath = '../data/example_data.csv'\n",
    "smi_col = 'SMILES'\n",
    "filter_maccs = '../data/maccs.txt'\n",
    "\n",
    "df = pd.read_csv(inpath, usecols=[smi_col])\n",
    "df.rename(columns={smi_col:'SMILES'}, inplace=True)\n",
    "df_m = maccs_df(df)\n",
    "df_m_f = fingerprint_filter(filter_maccs, df_m)\n",
    "df_m_f.to_csv(Path(inpath).parent / (Path(inpath).stem + '_maccs_filter.csv'), index=None)"
   ]
  },
  {
   "cell_type": "code",
   "execution_count": null,
   "metadata": {
    "collapsed": true
   },
   "outputs": [],
   "source": [
    "# filter_ecfp4 = '../data/ecfp4.txt'\n",
    "# df_e = ecfp4_df(df)\n",
    "# df_e_f = fingerprint_filter(filter_ecfp4, df_e)\n",
    "# df_e_f.to_csv(Path(inpath).parent / (Path(inpath).stem + '_ecfp-4_filter.csv'), index=None)\n",
    "\n",
    "# filter_ecfp4 = '../data/corina_SOM_RFE.txt'\n",
    "# df_c_f = fingerprint_filter(filter_corina, df)\n",
    "# df_c_f.to_csv(Path(inpath).parent / (Path(inpath).stem + '_corina_filter.csv'), index=None)"
   ]
  },
  {
   "cell_type": "code",
   "execution_count": null,
   "metadata": {
    "collapsed": true
   },
   "outputs": [],
   "source": []
  }
 ],
 "metadata": {
  "kernelspec": {
   "display_name": "base",
   "language": "python",
   "name": "python3"
  },
  "language_info": {
   "codemirror_mode": {
    "name": "ipython",
    "version": 3
   },
   "file_extension": ".py",
   "mimetype": "text/x-python",
   "name": "python",
   "nbconvert_exporter": "python",
   "pygments_lexer": "ipython3",
   "version": "3.8.5"
  },
  "toc": {
   "base_numbering": 1,
   "nav_menu": {},
   "number_sections": true,
   "sideBar": true,
   "skip_h1_title": false,
   "title_cell": "Table of Contents",
   "title_sidebar": "Contents",
   "toc_cell": false,
   "toc_position": {},
   "toc_section_display": true,
   "toc_window_display": false
  },
  "varInspector": {
   "cols": {
    "lenName": 16,
    "lenType": 16,
    "lenVar": 40
   },
   "kernels_config": {
    "python": {
     "delete_cmd_postfix": "",
     "delete_cmd_prefix": "del ",
     "library": "var_list.py",
     "varRefreshCmd": "print(var_dic_list())"
    },
    "r": {
     "delete_cmd_postfix": ") ",
     "delete_cmd_prefix": "rm(",
     "library": "var_list.r",
     "varRefreshCmd": "cat(var_dic_list()) "
    }
   },
   "types_to_exclude": [
    "module",
    "function",
    "builtin_function_or_method",
    "instance",
    "_Feature"
   ],
   "window_display": false
  },
  "vscode": {
   "interpreter": {
    "hash": "5bfffdde760fe50fd1c4d9a4e55a25ab646214878e63a86bffec06cdc505f699"
   }
  }
 },
 "nbformat": 4,
 "nbformat_minor": 2
}
